{
 "cells": [
  {
   "cell_type": "code",
   "execution_count": 14,
   "metadata": {
    "collapsed": true
   },
   "outputs": [],
   "source": [
    "import numpy as np\n",
    "import L_S_decomp as ls\n",
    "\n",
    "A, B, C = ls.l_s(10, 10, 2, 2)"
   ]
  },
  {
   "cell_type": "code",
   "execution_count": 9,
   "metadata": {
    "collapsed": true
   },
   "outputs": [],
   "source": [
    "# This code is from https://github.com/nwbirnie/rpca/blob/master/rpca.py\n",
    "\n",
    "import math\n",
    "import numpy.linalg\n",
    "\n",
    "def robust_pca(M):\n",
    "    \"\"\" \n",
    "    Decompose a matrix into low rank and sparse components.\n",
    "    Computes the RPCA decomposition using Alternating Lagrangian Multipliers.\n",
    "    Returns L,S the low rank and sparse components respectively\n",
    "    \"\"\"\n",
    "    L = numpy.zeros(M.shape)\n",
    "    S = numpy.zeros(M.shape)\n",
    "    Y = numpy.zeros(M.shape)\n",
    "    print (M.shape)\n",
    "    mu = (M.shape[0] * M.shape[1]) / (4.0 * L1Norm(M))\n",
    "    lamb = max(M.shape) ** -0.5\n",
    "    while not converged(M,L,S):\n",
    "        L = svd_shrink(M - S - (mu**-1) * Y, mu)\n",
    "        S = shrink(M - L + (mu**-1) * Y, lamb * mu)\n",
    "        Y = Y + mu * (M - L - S)\n",
    "    return L,S\n",
    "    \n",
    "def svd_shrink(X, tau):\n",
    "    \"\"\"\n",
    "    Apply the shrinkage operator to the singular values obtained from the SVD of X.\n",
    "    The parameter tau is used as the scaling parameter to the shrink function.\n",
    "    Returns the matrix obtained by computing U * shrink(s) * V where \n",
    "        U are the left singular vectors of X\n",
    "        V are the right singular vectors of X\n",
    "        s are the singular values as a diagonal matrix\n",
    "    \"\"\"\n",
    "    U,s,V = numpy.linalg.svd(X, full_matrices=False)\n",
    "    return numpy.dot(U, numpy.dot(numpy.diag(shrink(s, tau)), V))\n",
    "    \n",
    "def shrink(X, tau):\n",
    "    \"\"\"\n",
    "    Apply the shrinkage operator the the elements of X.\n",
    "    Returns V such that V[i,j] = max(abs(X[i,j]) - tau,0).\n",
    "    \"\"\"\n",
    "    V = numpy.copy(X).reshape(X.size)\n",
    "    for i in range(V.size):\n",
    "        V[i] = math.copysign(max(abs(V[i]) - tau, 0), V[i])\n",
    "        if V[i] == -0:\n",
    "            V[i] = 0\n",
    "    return V.reshape(X.shape)\n",
    "            \n",
    "def frobeniusNorm(X):\n",
    "    \"\"\"\n",
    "    Evaluate the Frobenius norm of X\n",
    "    Returns sqrt(sum_i sum_j X[i,j] ^ 2)\n",
    "    \"\"\"\n",
    "    accum = 0\n",
    "    V = numpy.reshape(X,X.size)\n",
    "    for i in range(V.size):\n",
    "        accum += abs(V[i] ** 2)\n",
    "    return math.sqrt(accum)\n",
    "\n",
    "def L1Norm(X):\n",
    "    \"\"\"\n",
    "    Evaluate the L1 norm of X\n",
    "    Returns the max over the sum of each column of X\n",
    "    \"\"\"\n",
    "    return max(numpy.sum(X,axis=0))\n",
    "\n",
    "def converged(M,L,S):\n",
    "    \"\"\"\n",
    "    A simple test of convergence based on accuracy of matrix reconstruction\n",
    "    from sparse and low rank parts\n",
    "    \"\"\"\n",
    "    error = frobeniusNorm(M - L - S) / frobeniusNorm(M)\n",
    "    print (\"error =\", error)\n",
    "    return error <= 10e-6"
   ]
  },
  {
   "cell_type": "code",
   "execution_count": 10,
   "metadata": {
    "collapsed": false
   },
   "outputs": [
    {
     "data": {
      "text/plain": [
       "array([[ 0.0116945 , -0.70532166,  0.13698004, -0.6228767 , -0.61049191,\n",
       "        -1.79402145,  0.4049477 , -3.71628847,  5.18205452, -2.97593052],\n",
       "       [ 0.81586119, -0.07263369,  0.49922701, -2.17344863, -4.14421274,\n",
       "         1.66895207, -1.49124059, -4.49685851, -0.71767303, -7.69316756],\n",
       "       [-2.04697441, -2.04765537, -5.95523988,  1.63384302, -1.12103277,\n",
       "        -0.155596  , -0.98628735, -0.11881662, -0.67893617,  0.23321236],\n",
       "       [-1.05200613,  0.87277235,  6.12564493, -2.5604271 , -4.67447433,\n",
       "         1.81200271,  2.91010702, -1.85421898,  1.49102638, -0.37937549],\n",
       "       [ 0.96432929,  1.94839836,  3.87978593, -1.31498477,  1.89078083,\n",
       "         1.75980448,  1.25851233,  0.62620782, -4.58481326, -4.40068192],\n",
       "       [ 0.03063996,  1.90426074,  2.24427604,  1.0781321 ,  1.61421564,\n",
       "        -3.52272183, -2.30998012, -1.65398914,  2.16692434, -0.56270688],\n",
       "       [ 1.9653036 ,  1.93161227, -3.34714838, -0.56313788,  0.80696086,\n",
       "         1.31677969,  0.07437734,  4.501739  , -0.32456131,  3.44299165],\n",
       "       [-0.66031326, -2.21749818,  1.08052366, -0.76281927,  0.18210958,\n",
       "         1.33007525,  0.20705592, -0.15680908, -0.64947396, -2.2444163 ],\n",
       "       [-4.40004256, -1.28606601,  3.88411417, -2.21276166, -5.23682064,\n",
       "         2.23210372,  0.72931909, -4.22988824,  4.29645585, -4.31083277],\n",
       "       [-0.99638123,  0.29926202,  1.19120301,  0.99419701, -1.93975857,\n",
       "        -1.92920577, -3.06455761, -3.33785028, -0.56695746, -1.85509144]])"
      ]
     },
     "execution_count": 10,
     "metadata": {},
     "output_type": "execute_result"
    }
   ],
   "source": [
    "A\n"
   ]
  },
  {
   "cell_type": "code",
   "execution_count": 12,
   "metadata": {
    "collapsed": false
   },
   "outputs": [
    {
     "name": "stdout",
     "output_type": "stream",
     "text": [
      "(10, 10)\n",
      "error = 1.0\n",
      "error = 0.22176894452499224\n",
      "error = 0.11828588515777007\n",
      "error = 0.08202087069651134\n",
      "error = 0.023047247915602583\n",
      "error = 0.03023930329571088\n",
      "error = 0.015437157625456808\n",
      "error = 0.008114915149764219\n",
      "error = 0.008395149117226126\n",
      "error = 0.011270412114425251\n",
      "error = 0.016901733726425748\n",
      "error = 0.0016668127308908005\n",
      "error = 1.1160087606299598e-16\n"
     ]
    }
   ],
   "source": [
    "L0, S0 = robust_pca(A)"
   ]
  },
  {
   "cell_type": "code",
   "execution_count": 15,
   "metadata": {
    "collapsed": false
   },
   "outputs": [
    {
     "data": {
      "text/plain": [
       "2.084273163013068"
      ]
     },
     "execution_count": 15,
     "metadata": {},
     "output_type": "execute_result"
    }
   ],
   "source": [
    "np.linalg.norm(B - L0, ord=\"fro\")/np.linalg.norm(L0, ord=\"fro\")"
   ]
  },
  {
   "cell_type": "code",
   "execution_count": 16,
   "metadata": {
    "collapsed": false
   },
   "outputs": [
    {
     "data": {
      "text/plain": [
       "0.9949101801885609"
      ]
     },
     "execution_count": 16,
     "metadata": {},
     "output_type": "execute_result"
    }
   ],
   "source": [
    "np.linalg.norm(C - S0, ord=\"fro\")/np.linalg.norm(S0, ord=\"fro\")"
   ]
  },
  {
   "cell_type": "code",
   "execution_count": 18,
   "metadata": {
    "collapsed": false
   },
   "outputs": [
    {
     "data": {
      "text/plain": [
       "1.3314658959673502"
      ]
     },
     "execution_count": 18,
     "metadata": {},
     "output_type": "execute_result"
    }
   ],
   "source": [
    "np.linalg.norm(A - L0 - S0, ord=\"fro\")/np.linalg.norm(A, ord=\"fro\")"
   ]
  },
  {
   "cell_type": "code",
   "execution_count": 19,
   "metadata": {
    "collapsed": false
   },
   "outputs": [
    {
     "data": {
      "text/plain": [
       "array([[ 1.79336167,  0.13422899,  3.39010196,  1.07946677, -3.07044227,\n",
       "         1.47410101, -0.74268769, -0.66749555, -2.63215866,  0.4409927 ],\n",
       "       [-0.64173311, -3.2892044 ,  2.22457862,  1.15359425, -1.23808115,\n",
       "        -0.60939009, -4.72357269,  2.89933529, -0.49128408,  3.32152363],\n",
       "       [ 1.74991267, -0.91175276, -1.09220847,  1.89493743, -1.23815678,\n",
       "        -0.25151487, -0.4602313 ,  1.14235494,  1.27220518,  0.37429999],\n",
       "       [-2.42633892, -2.51137769, -1.80429128,  4.5926138 ,  4.47472278,\n",
       "         3.37800903, -0.90233346,  1.16570419,  3.72047867,  6.74433343],\n",
       "       [-4.03109365, -2.22009291,  3.23729184,  0.86230448,  0.49440207,\n",
       "         3.75638552, -7.09442151,  0.76802001, -4.01813525,  1.46236219],\n",
       "       [-3.02932323, -0.90812648,  0.678653  ,  0.43518593, -2.23135771,\n",
       "        -2.14241094, -0.67308034,  2.52629545, -1.9003267 , -0.32039029],\n",
       "       [ 2.2771758 , -5.65624476,  3.06342672,  1.08425248, -1.94733802,\n",
       "        -1.28528913, -5.64286172,  2.72351538,  1.46667791,  6.41695528],\n",
       "       [ 3.52607862,  3.93180446,  1.2676867 ,  0.29336728,  3.5079786 ,\n",
       "         2.96156155, -0.95228891, -1.56853676,  1.93347068,  0.26937155],\n",
       "       [ 5.08739754, -5.16620986, -4.71567091,  0.23813627, -0.60851756,\n",
       "        -3.99590537,  4.57561432,  0.57805154,  8.05797086, -2.85983873],\n",
       "       [ 6.4242366 ,  5.35776541,  1.83771137, -3.90472892, -2.25954002,\n",
       "         2.19052544,  0.83681363, -3.97559886, -2.68866385, -4.69597788]])"
      ]
     },
     "execution_count": 19,
     "metadata": {},
     "output_type": "execute_result"
    }
   ],
   "source": [
    "A\n"
   ]
  },
  {
   "cell_type": "code",
   "execution_count": 20,
   "metadata": {
    "collapsed": false
   },
   "outputs": [
    {
     "data": {
      "text/plain": [
       "array([[ 0.0116945 , -0.70532166,  0.13698004, -0.6228767 , -0.61049191,\n",
       "        -1.79402145,  0.4049477 , -3.71628847,  5.18205452, -2.97593052],\n",
       "       [ 0.81586119, -0.07263369,  0.49922701, -2.17344863, -4.14421274,\n",
       "         1.66895207, -1.49124059, -4.49685851, -0.71767303, -7.69316756],\n",
       "       [-2.04697441, -2.04765537, -5.95523988,  1.63384302, -1.12103277,\n",
       "        -0.155596  , -0.98628735, -0.11881662, -0.67893617,  0.23321236],\n",
       "       [-1.05200613,  0.87277235,  6.12564493, -2.5604271 , -4.67447433,\n",
       "         1.81200271,  2.91010702, -1.85421898,  1.49102638, -0.37937549],\n",
       "       [ 0.96432929,  1.94839836,  3.87978593, -1.31498477,  1.89078083,\n",
       "         1.75980448,  1.25851233,  0.62620782, -4.58481326, -4.40068192],\n",
       "       [ 0.03063996,  1.90426074,  2.24427604,  1.0781321 ,  1.61421564,\n",
       "        -3.52272183, -2.30998012, -1.65398914,  2.16692434, -0.56270688],\n",
       "       [ 1.9653036 ,  1.93161227, -3.34714838, -0.56313788,  0.80696086,\n",
       "         1.31677969,  0.07437734,  4.501739  , -0.32456131,  3.44299165],\n",
       "       [-0.66031326, -2.21749818,  1.08052366, -0.76281927,  0.18210958,\n",
       "         1.33007525,  0.20705592, -0.15680908, -0.64947396, -2.2444163 ],\n",
       "       [-4.40004256, -1.28606601,  3.88411417, -2.21276166, -5.23682064,\n",
       "         2.23210372,  0.72931909, -4.22988824,  4.29645585, -4.31083277],\n",
       "       [-0.99638123,  0.29926202,  1.19120301,  0.99419701, -1.93975857,\n",
       "        -1.92920577, -3.06455761, -3.33785028, -0.56695746, -1.85509144]])"
      ]
     },
     "execution_count": 20,
     "metadata": {},
     "output_type": "execute_result"
    }
   ],
   "source": [
    "L0+S0\n"
   ]
  },
  {
   "cell_type": "code",
   "execution_count": null,
   "metadata": {
    "collapsed": true
   },
   "outputs": [],
   "source": []
  }
 ],
 "metadata": {
  "kernelspec": {
   "display_name": "Python 3",
   "language": "python",
   "name": "python3"
  },
  "language_info": {
   "codemirror_mode": {
    "name": "ipython",
    "version": 3
   },
   "file_extension": ".py",
   "mimetype": "text/x-python",
   "name": "python",
   "nbconvert_exporter": "python",
   "pygments_lexer": "ipython3",
   "version": "3.5.2"
  }
 },
 "nbformat": 4,
 "nbformat_minor": 2
}
