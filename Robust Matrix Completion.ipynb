{
 "cells": [
  {
   "cell_type": "code",
   "execution_count": 2,
   "metadata": {
    "collapsed": true
   },
   "outputs": [],
   "source": [
    "import numpy as np\n",
    "from numpy import linalg as LA\n",
    "import matplotlib.pyplot as plt\n",
    "import pandas as pd\n",
    "import cvxpy as cp"
   ]
  },
  {
   "cell_type": "code",
   "execution_count": null,
   "metadata": {
    "collapsed": true
   },
   "outputs": [],
   "source": [
    "# the mask is a matrix with entries either 1 (indicating observed) or 0 (indicating missing)\n",
    "\n",
    "from matrix_completion import svt_solve, calc_unobserved_rmse\n",
    "\n",
    "U = np.random.randn(20, 5)\n",
    "V = np.random.randn(15, 5)\n",
    "R = np.random.randn(20, 15) + np.dot(U, V.T)\n",
    "\n",
    "mask = np.round(np.random.rand(20, 15))\n",
    "R_hat = svt_solve(R, mask)\n",
    "\n",
    "print(\"RMSE:\", calc_unobserved_rmse(U, V, R_hat, mask))\n",
    "\n"
   ]
  }
 ],
 "metadata": {
  "kernelspec": {
   "display_name": "Python 3",
   "language": "python",
   "name": "python3"
  },
  "language_info": {
   "codemirror_mode": {
    "name": "ipython",
    "version": 3
   },
   "file_extension": ".py",
   "mimetype": "text/x-python",
   "name": "python",
   "nbconvert_exporter": "python",
   "pygments_lexer": "ipython3",
   "version": "3.5.2"
  }
 },
 "nbformat": 4,
 "nbformat_minor": 2
}
